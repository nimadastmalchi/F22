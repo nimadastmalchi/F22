{
  "nbformat": 4,
  "nbformat_minor": 0,
  "metadata": {
    "colab": {
      "provenance": [],
      "collapsed_sections": []
    },
    "kernelspec": {
      "name": "python3",
      "display_name": "Python 3"
    }
  },
  "cells": [
    {
      "cell_type": "markdown",
      "source": [
        "# Homework 1\n",
        "\n",
        "**Name**: **Nima Amir Dastmalchi**\n",
        "\n",
        "**UID**: **505320372**"
      ],
      "metadata": {
        "id": "U28DL6ozLoGs"
      }
    },
    {
      "cell_type": "code",
      "source": [
        "# Download a processed version of the data\n",
        "!wget https://web.cs.ucla.edu/~zshi/files/CS146/mushroom.txt"
      ],
      "metadata": {
        "id": "4Ri1ZgvQa1mh",
        "colab": {
          "base_uri": "https://localhost:8080/"
        },
        "outputId": "ad17305f-88cb-45cb-a63f-229dfec729c6"
      },
      "execution_count": 118,
      "outputs": [
        {
          "output_type": "stream",
          "name": "stdout",
          "text": [
            "--2022-10-08 03:02:39--  https://web.cs.ucla.edu/~zshi/files/CS146/mushroom.txt\n",
            "Resolving web.cs.ucla.edu (web.cs.ucla.edu)... 131.179.128.29\n",
            "Connecting to web.cs.ucla.edu (web.cs.ucla.edu)|131.179.128.29|:443... connected.\n",
            "HTTP request sent, awaiting response... 200 OK\n",
            "Length: 1264848 (1.2M) [text/plain]\n",
            "Saving to: ‘mushroom.txt.3’\n",
            "\n",
            "mushroom.txt.3      100%[===================>]   1.21M  3.01MB/s    in 0.4s    \n",
            "\n",
            "2022-10-08 03:02:39 (3.01 MB/s) - ‘mushroom.txt.3’ saved [1264848/1264848]\n",
            "\n"
          ]
        }
      ]
    },
    {
      "cell_type": "code",
      "metadata": {
        "id": "55EocyDPsWIb"
      },
      "source": [
        "# Use only the provided packages\n",
        "import sys\n",
        "import math\n",
        "import csv\n",
        "import pandas\n",
        "import os\n",
        "import numpy as np\n",
        "from collections import Counter\n",
        "from dataclasses import dataclass\n",
        "\n",
        "import matplotlib as mpl\n",
        "import matplotlib.pyplot as plt\n",
        "\n",
        "from sklearn.tree import DecisionTreeClassifier\n",
        "from sklearn.neighbors import KNeighborsClassifier\n",
        "from sklearn.model_selection import cross_val_score\n",
        "from sklearn.model_selection import cross_validate\n",
        "from sklearn import metrics\n",
        "from sklearn.preprocessing import StandardScaler\n",
        "from sklearn.model_selection import StratifiedShuffleSplit\n",
        "\n",
        "mpl.lines.width = 2\n",
        "mpl.axes.labelsize = 14"
      ],
      "execution_count": 119,
      "outputs": []
    },
    {
      "cell_type": "code",
      "metadata": {
        "id": "dxpkWVRetDgo"
      },
      "source": [
        "class Classifier(object) :\n",
        "    \"\"\"\n",
        "    Classifier interface.\n",
        "    \"\"\"\n",
        "\n",
        "    def fit(self, X, y):\n",
        "        raise NotImplementedError()\n",
        "\n",
        "    def predict(self, X):\n",
        "        raise NotImplementedError()\n",
        "\n",
        "\n",
        "class MajorityVoteClassifier(Classifier) :\n",
        "\n",
        "    def __init__(self) :\n",
        "        \"\"\"\n",
        "        A classifier that always predicts the majority class.\n",
        "\n",
        "        Attributes\n",
        "        --------------------\n",
        "            prediction_ -- majority class\n",
        "        \"\"\"\n",
        "        self.prediction_ = None\n",
        "\n",
        "    def fit(self, X, y) :\n",
        "        \"\"\"\n",
        "        Build a majority vote classifier from the training set (X, y).\n",
        "\n",
        "        Parameters\n",
        "        --------------------\n",
        "            X    -- numpy array of shape (n,d), samples\n",
        "            y    -- numpy array of shape (n,), target classes\n",
        "\n",
        "        Returns\n",
        "        --------------------\n",
        "            self -- an instance of self\n",
        "        \"\"\"\n",
        "        majority_val = Counter(y).most_common(1)[0][0]\n",
        "        self.prediction_ = majority_val\n",
        "        return self\n",
        "\n",
        "    def predict(self, X) :\n",
        "        \"\"\"\n",
        "        Predict class values.\n",
        "\n",
        "        Parameters\n",
        "        --------------------\n",
        "            X    -- numpy array of shape (n,d), samples\n",
        "\n",
        "        Returns\n",
        "        --------------------\n",
        "            y    -- numpy array of shape (n,), predicted classes\n",
        "        \"\"\"\n",
        "        if self.prediction_ is None :\n",
        "            raise Exception(\"Classifier not initialized. Perform a fit first.\")\n",
        "\n",
        "        n,d = X.shape\n",
        "        y = [self.prediction_] * n\n",
        "        return y"
      ],
      "execution_count": 120,
      "outputs": []
    },
    {
      "cell_type": "code",
      "metadata": {
        "id": "yefbwe8EvH-V"
      },
      "source": [
        "class RandomClassifier(Classifier) :\n",
        "\n",
        "    def __init__(self) :\n",
        "        \"\"\"\n",
        "        A classifier that predicts according to the distribution of the classes.\n",
        "\n",
        "        Attributes\n",
        "        --------------------\n",
        "            probabilities_ -- class distribution dict (key = class, val = probability of class)\n",
        "        \"\"\"\n",
        "        self.probabilities_ = None\n",
        "\n",
        "    def fit(self, X, y) :\n",
        "        \"\"\"\n",
        "        Build a random classifier from the training set (X, y).\n",
        "\n",
        "        Parameters\n",
        "        --------------------\n",
        "            X    -- numpy array of shape (n,d), samples\n",
        "            y    -- numpy array of shape (n,), target classes\n",
        "\n",
        "        Returns\n",
        "        --------------------\n",
        "            self -- an instance of self\n",
        "        \"\"\"\n",
        "\n",
        "        ### ========== TODO (a): START ========== ###\n",
        "        # set self.probabilities_ according to the training set\n",
        "        counter = Counter(y)\n",
        "\n",
        "        # divide each value in the counter dict by the number of instances\n",
        "        self.probabilities_ = {key: value / len(y)\n",
        "                                 for key, value in counter.items()}\n",
        "                                \n",
        "        ### ========== TODO : END ========== ###\n",
        "\n",
        "        return self\n",
        "\n",
        "    def predict(self, X, seed=1234) :\n",
        "        \"\"\"\n",
        "        Predict class values.\n",
        "\n",
        "        Parameters\n",
        "        --------------------\n",
        "            X    -- numpy array of shape (n,d), samples\n",
        "            seed -- integer, random seed\n",
        "\n",
        "        Returns\n",
        "        --------------------\n",
        "            y    -- numpy array of shape (n,), predicted classes\n",
        "        \"\"\"\n",
        "        if self.probabilities_ is None :\n",
        "            raise Exception(\"Classifier not initialized. Perform a fit first.\")\n",
        "        np.random.seed(seed)\n",
        "\n",
        "        ### ========== TODO (a): START ========== ###\n",
        "        # predict the class for each test example\n",
        "        # hint: use np.random.choice (be careful of the parameters)\n",
        "        n,d = X.shape\n",
        "        y = []\n",
        "        for _ in range(n):\n",
        "          # choose a key from self.probabilities_. Each key will have a\n",
        "          # probability of self.probabilities_[key] to be selected\n",
        "          randLabel = np.random.choice(list(self.probabilities_.keys()),\n",
        "                                       p=list(self.probabilities_.values()))\n",
        "          y.append(randLabel)\n",
        "\n",
        "        ### ========== TODO : END ========== ###\n",
        "        return y\n"
      ],
      "execution_count": 121,
      "outputs": []
    },
    {
      "cell_type": "code",
      "metadata": {
        "id": "7m9qVosFwbAK"
      },
      "source": [
        "def plot_histograms(X, y, Xnames, yname) :\n",
        "    n,d = X.shape  # n = number of examples, d =  number of features\n",
        "    fig = plt.figure(figsize=(20,20))\n",
        "    ncol = 3\n",
        "    nrow = d // ncol + 1\n",
        "    for i in range(d) :\n",
        "        fig.add_subplot (nrow,ncol,i+1)\n",
        "        data, bins, align, labels = plot_histogram(X[:,i], y, Xname=Xnames[i], yname=yname, show = False)\n",
        "        n, bins, patches = plt.hist(data, bins=bins, align=align, alpha=0.5, label=labels)\n",
        "        plt.xlabel(Xnames[i])\n",
        "        plt.ylabel('Frequency')\n",
        "        plt.legend()\n",
        "\n",
        "    plt.savefig ('histograms.pdf')\n",
        "\n",
        "\n",
        "def plot_histogram(X, y, Xname, yname, show = True) :\n",
        "    \"\"\"\n",
        "    Plots histogram of values in X grouped by y.\n",
        "\n",
        "    Parameters\n",
        "    --------------------\n",
        "        X     -- numpy array of shape (n,d), feature values\n",
        "        y     -- numpy array of shape (n,), target classes\n",
        "        Xname -- string, name of feature\n",
        "        yname -- string, name of target\n",
        "    \"\"\"\n",
        "\n",
        "    # set up data for plotting\n",
        "    targets = sorted(set(y))\n",
        "    data = []; labels = []\n",
        "    for target in targets :\n",
        "        features = [X[i] for i in range(len(y)) if y[i] == target]\n",
        "        data.append(features)\n",
        "        labels.append('%s = %s' % (yname, target))\n",
        "\n",
        "    # set up histogram bins\n",
        "    features = set(X)\n",
        "    nfeatures = len(features)\n",
        "    test_range = list(range(int(math.floor(min(features))), int(math.ceil(max(features)))+1))\n",
        "    if nfeatures < 10 and sorted(features) == test_range:\n",
        "        bins = test_range + [test_range[-1] + 1] # add last bin\n",
        "        align = 'left'\n",
        "    else :\n",
        "        bins = 10\n",
        "        align = 'mid'\n",
        "\n",
        "    # plot\n",
        "    if show == True:\n",
        "        plt.figure()\n",
        "        n, bins, patches = plt.hist(data, bins=bins, align=align, alpha=0.5, label=labels)\n",
        "        plt.xlabel(Xname)\n",
        "        plt.ylabel('Frequency')\n",
        "        plt.legend()\n",
        "        plt.show()\n",
        "\n",
        "    return data, bins, align, labels"
      ],
      "execution_count": 122,
      "outputs": []
    },
    {
      "cell_type": "code",
      "metadata": {
        "id": "1Z8oJrMgxc4_"
      },
      "source": [
        "def error(clf, X, y, ntrials=1, test_size=0.0) :\n",
        "    \"\"\"\n",
        "    Computes the classifier error over a random split of the data,\n",
        "    averaged over ntrials runs.\n",
        "\n",
        "    Parameters\n",
        "    --------------------\n",
        "        clf         -- classifier\n",
        "        X           -- numpy array of shape (n,d), features values\n",
        "        y           -- numpy array of shape (n,), target classes\n",
        "        ntrials     -- integer, number of trials\n",
        "\n",
        "    Returns\n",
        "    --------------------\n",
        "        train_error -- float, training error\n",
        "        test_error  -- float, test error\n",
        "        f1_score    -- float, test \"micro\" averaged f1 score\n",
        "    \"\"\"\n",
        "\n",
        "    ### ========== TODO (d): START ========== ###\n",
        "    # compute cross-validation error using StratifiedShuffleSplit over ntrials\n",
        "    # hint: use StratifiedShuffleSplit (be careful of the parameters)\n",
        "    train_error, test_error, f1_score = 0, 0, 0\n",
        "\n",
        "    sss = StratifiedShuffleSplit(n_splits=ntrials,\n",
        "                                 test_size=test_size,\n",
        "                                 random_state=0)\n",
        "    # iterate through ntrials of split data into train and test sets\n",
        "    for train_index, test_index in sss.split(X, y):\n",
        "      # get the current train and test sets\n",
        "      X_train, X_test = X[train_index], X[test_index]\n",
        "      y_train, y_test = y[train_index], y[test_index]\n",
        "\n",
        "      # fit on the train data\n",
        "      clf.fit(X_train, y_train)\n",
        "\n",
        "      # predict the train data and compute train error\n",
        "      y_pred_train = clf.predict(X_train)\n",
        "      cur_train_error = 1 - metrics.accuracy_score(y_train,\n",
        "                                                   y_pred_train,\n",
        "                                                   normalize=True)\n",
        "      train_error += cur_train_error\n",
        "\n",
        "      # predict the test data and compute test error\n",
        "      y_pred_test = clf.predict(X_test)\n",
        "      cur_test_error = 1 - metrics.accuracy_score(y_test,\n",
        "                                                  y_pred_test,\n",
        "                                                  normalize=True)\n",
        "      test_error += cur_test_error\n",
        "\n",
        "      # compute current f1 score\n",
        "      f1_score += metrics.f1_score(y_test, y_pred_test, average='micro')\n",
        "\n",
        "    train_error /= ntrials\n",
        "    test_error /= ntrials\n",
        "    f1_score /= ntrials\n",
        "    ### ========== TODO : END ========== ###\n",
        "    \n",
        "    return train_error, test_error, f1_score\n"
      ],
      "execution_count": 123,
      "outputs": []
    },
    {
      "cell_type": "code",
      "source": [
        "# Load the Mushroom dataset\n",
        "\n",
        "@dataclass\n",
        "class Dataset:\n",
        "    \"\"\"Class for the dataset.\"\"\"\n",
        "    X: np.array\n",
        "    y: np.array\n",
        "    Xnames: list\n",
        "    yname: str\n",
        "\n",
        "def load_data(data_file='mushroom.txt'):\n",
        "    \"\"\"Load data and map strings to numbers.\"\"\"\n",
        "    data = pandas.read_csv(data_file).to_numpy()\n",
        "    n = data.shape[0]\n",
        "    d = data.shape[1] - 1\n",
        "    # Map strings to numbers\n",
        "    X = np.zeros((n, d))\n",
        "    for i in range(d):\n",
        "        mapping = {name: j for j, name in enumerate(set(data[:, i+1]))}\n",
        "        for j in range(n):\n",
        "            X[j, i] = mapping[data[j, i+1]]\n",
        "    mapping = {'EDIBLE': 1, 'POISONOUS': 0}\n",
        "    y = np.zeros(n, dtype=np.int32)\n",
        "    for j in range(n):\n",
        "        y[j] = mapping[data[j, 0]]\n",
        "    #0 'cap-shape', \n",
        "    #1 'cap-surface', \n",
        "    #2 'cap-color', \n",
        "    #3 'bruises', \n",
        "    #4 'odor',      \n",
        "    #5 'gill-attachment', \n",
        "    #6 'gill-spacing', \n",
        "    #7 'gill-size', \n",
        "    #8 'gill-color',\n",
        "    #9 'stalk-shape', \n",
        "    #10 'stalk-root', \n",
        "    #11 'stalk-surface-above-ring', \n",
        "    #12 'stalk-surface-below-ring',\n",
        "    #13 'stalk-color-above-ring',\n",
        "    #14 'stalk-color-below-ring',\n",
        "    #15 'veil-type',\n",
        "    #16 'veil-color',\n",
        "    #17 'ring-number',\n",
        "    #18 'ring-type',\n",
        "    #19 'spore-print-color',\n",
        "    #20 'population',\n",
        "    #21 'habitat',        \n",
        "    Xnames = [\n",
        "        'cap-shape', \n",
        "        'cap-surface', \n",
        "        'cap-color', \n",
        "        'bruises', \n",
        "        'odor',\n",
        "        'gill-attachment', \n",
        "        'gill-spacing', \n",
        "        'gill-size', \n",
        "        'gill-color',\n",
        "        'stalk-shape', \n",
        "        'stalk-root', \n",
        "        'stalk-surface-above-ring', \n",
        "        'stalk-surface-below-ring',\n",
        "        'stalk-color-above-ring',\n",
        "        'stalk-color-below-ring',\n",
        "        'veil-type',\n",
        "        'veil-color',\n",
        "        'ring-number',\n",
        "        'ring-type',\n",
        "        'spore-print-color',\n",
        "        'population',\n",
        "        'habitat',\n",
        "    ]\n",
        "    # We only use these 6 features\n",
        "    features = [0, 2, 8, 10, 15, 17]\n",
        "    X = np.take(X, features, axis=-1)\n",
        "    Xnames = [Xnames[i] for i in features]\n",
        "    return Dataset(X=X, y=y, Xnames=Xnames, yname='edible')\n",
        "\n",
        "data = load_data()\n",
        "\n",
        "X = data.X; Xnames = data.Xnames\n",
        "y = data.y; yname = data.yname\n",
        "n,d = X.shape  # n = number of examples, d =  number of features"
      ],
      "metadata": {
        "id": "ndGimSPsbwl_"
      },
      "execution_count": 124,
      "outputs": []
    },
    {
      "cell_type": "code",
      "source": [
        "plt.figure()\n",
        "# Plot histograms of each feature\n",
        "print('Plotting...')\n",
        "plot_histograms (X, y, Xnames=Xnames, yname=yname)"
      ],
      "metadata": {
        "id": "d9O041QeepGK",
        "colab": {
          "base_uri": "https://localhost:8080/",
          "height": 889
        },
        "outputId": "ed3ae13c-7e1e-4f0e-e4c8-b233a0a7b090"
      },
      "execution_count": 125,
      "outputs": [
        {
          "output_type": "stream",
          "name": "stdout",
          "text": [
            "Plotting...\n"
          ]
        },
        {
          "output_type": "stream",
          "name": "stderr",
          "text": [
            "/usr/local/lib/python3.7/dist-packages/numpy/core/fromnumeric.py:3208: VisibleDeprecationWarning: Creating an ndarray from ragged nested sequences (which is a list-or-tuple of lists-or-tuples-or ndarrays with different lengths or shapes) is deprecated. If you meant to do this, you must specify 'dtype=object' when creating the ndarray.\n",
            "  return asarray(a).size\n",
            "/usr/local/lib/python3.7/dist-packages/matplotlib/cbook/__init__.py:1376: VisibleDeprecationWarning: Creating an ndarray from ragged nested sequences (which is a list-or-tuple of lists-or-tuples-or ndarrays with different lengths or shapes) is deprecated. If you meant to do this, you must specify 'dtype=object' when creating the ndarray.\n",
            "  X = np.atleast_1d(X.T if isinstance(X, np.ndarray) else np.asarray(X))\n"
          ]
        },
        {
          "output_type": "display_data",
          "data": {
            "text/plain": [
              "<Figure size 432x288 with 0 Axes>"
            ]
          },
          "metadata": {}
        },
        {
          "output_type": "display_data",
          "data": {
            "text/plain": [
              "<Figure size 1440x1440 with 6 Axes>"
            ],
            "image/png": "[encoded data removed]"
          },
          "metadata": {
            "needs_background": "light"
          }
        }
      ]
    },
    {
      "cell_type": "code",
      "source": [
        "# train Majority Vote classifier on data\n",
        "print('Classifying using Majority Vote...')\n",
        "clf = MajorityVoteClassifier() # create MajorityVote classifier, which includes all model parameters\n",
        "clf.fit(X, y)                  # fit training data using the classifier\n",
        "y_pred = clf.predict(X)        # take the classifier and run it on the training data\n",
        "train_error = 1 - metrics.accuracy_score(y, y_pred, normalize=True)\n",
        "print('\\t-- training error: %.3f' % train_error)\n",
        "\n",
        "# output:\n",
        "# Classifying using Majority Vote...\n",
        "#\t       -- training error: 0.467"
      ],
      "metadata": {
        "id": "DsavGsNaiqOE",
        "colab": {
          "base_uri": "https://localhost:8080/"
        },
        "outputId": "48cd09e2-8643-438d-d9d3-a67e4abf78b1"
      },
      "execution_count": 126,
      "outputs": [
        {
          "output_type": "stream",
          "name": "stdout",
          "text": [
            "Classifying using Majority Vote...\n",
            "\t-- training error: 0.467\n"
          ]
        }
      ]
    },
    {
      "cell_type": "code",
      "source": [
        "### ========== TODO (a): START ========== ###\n",
        "# evaluate training error of Random classifier\n",
        "print('Classifying using Random Classifier...')\n",
        "clf = RandomClassifier()\n",
        "clf.fit(X, y)\n",
        "y_pred = clf.predict(X)\n",
        "train_error = 1 - metrics.accuracy_score(y, y_pred, normalize=True)\n",
        "print('\\t-- training error: %.3f' % train_error)\n",
        "\n",
        "# output:\n",
        "# Classifying using Random Classifier...\n",
        "#        -- training error: 0.506\n",
        "\n",
        "### ========== TODO : END ========== ###"
      ],
      "metadata": {
        "id": "yKyE4skdirsI",
        "colab": {
          "base_uri": "https://localhost:8080/"
        },
        "outputId": "4a7c0260-a673-4b98-d556-b6baf4835ece"
      },
      "execution_count": 127,
      "outputs": [
        {
          "output_type": "stream",
          "name": "stdout",
          "text": [
            "Classifying using Random Classifier...\n",
            "\t-- training error: 0.506\n"
          ]
        }
      ]
    },
    {
      "cell_type": "code",
      "source": [
        "### ========== TODO (b): START ========== ###\n",
        "# evaluate training error of Decision Tree classifier\n",
        "print('Classifying using DecisionTreeClassifier...')\n",
        "clf = DecisionTreeClassifier(criterion='entropy')\n",
        "clf.fit(X, y)\n",
        "y_pred = clf.predict(X)\n",
        "train_error = 1 - metrics.accuracy_score(y, y_pred, normalize=True)\n",
        "print('\\t-- training error: %.3f' % train_error)\n",
        "\n",
        "# output:\n",
        "# Classifying using DecisionTreeClassifier...\n",
        "#        -- training error: 0.055\n",
        "\n",
        "### ========== TODO : END ========== ###"
      ],
      "metadata": {
        "id": "QY52Xls2isr3",
        "colab": {
          "base_uri": "https://localhost:8080/"
        },
        "outputId": "1d5be9ad-46bf-4ece-ea45-9fe9314c6cc2"
      },
      "execution_count": 128,
      "outputs": [
        {
          "output_type": "stream",
          "name": "stdout",
          "text": [
            "Classifying using DecisionTreeClassifier...\n",
            "\t-- training error: 0.055\n"
          ]
        }
      ]
    },
    {
      "cell_type": "code",
      "source": [
        "### ========== TODO (c): START ========== ###\n",
        "# evaluate training error of k-Nearest Neighbors classifier\n",
        "# use k = 3, 11, 19 for n_neighbors\n",
        "print('Classifying using KNeighborsClassifier...')\n",
        "for k in [3, 11, 19]:\n",
        "  clf = KNeighborsClassifier(n_neighbors=k)\n",
        "  clf.fit(X, y)\n",
        "  y_pred = clf.predict(X)\n",
        "  train_error = 1 - metrics.accuracy_score(y, y_pred, normalize=True)\n",
        "  print('\\t-- training error for k=%d: %.3f' % (k, train_error))\n",
        "\n",
        "# output\n",
        "# Classifying using KNeighborsClassifier...\n",
        "#        -- training error for k=3: 0.114\n",
        "#        -- training error for k=11: 0.130\n",
        "#        -- training error for k=19: 0.103\n",
        "\n",
        "### ========== TODO : END ========== ###"
      ],
      "metadata": {
        "id": "9J8BTu4xitvz",
        "colab": {
          "base_uri": "https://localhost:8080/"
        },
        "outputId": "1c406ae4-4bbb-45fb-8621-c6243a0d6757"
      },
      "execution_count": 129,
      "outputs": [
        {
          "output_type": "stream",
          "name": "stdout",
          "text": [
            "Classifying using KNeighborsClassifier...\n",
            "\t-- training error for k=3: 0.114\n",
            "\t-- training error for k=11: 0.130\n",
            "\t-- training error for k=19: 0.103\n"
          ]
        }
      ]
    },
    {
      "cell_type": "code",
      "source": [
        " ## ========== TODO (d): START ========== ###\n",
        "# use cross-validation to compute average training and test error of classifiers\n",
        "print('Investigating various classifiers...')\n",
        "classifiers = {\n",
        "    'Majority Vote': MajorityVoteClassifier(),\n",
        "    'Random Classifier': RandomClassifier(),\n",
        "    'Decision Tree': DecisionTreeClassifier(criterion='entropy'),\n",
        "    'K Nearest Neighbors': KNeighborsClassifier(n_neighbors=11)\n",
        "}\n",
        "\n",
        "for name, clf in classifiers.items():\n",
        "  print('\\t-- Classifying %s...' % name)\n",
        "  errors = error(clf, X, y, ntrials=100, test_size=0.15)\n",
        "  print('\\t\\t-- Training error: %.3f' % errors[0])\n",
        "  print('\\t\\t-- Test error: %.3f' % errors[1])\n",
        "  print('\\t\\t-- F1 score: %.3f' % errors[2])\n",
        "\n",
        "# output:\n",
        "# Investigating various classifiers...\n",
        "# \t-- Classifying Majority Vote...\n",
        "# \t\t-- Training error: 0.467\n",
        "# \t\t-- Test error: 0.467\n",
        "# \t\t-- F1 score: 0.533\n",
        "# \t-- Classifying Random Classifier...\n",
        "# \t\t-- Training error: 0.499\n",
        "# \t\t-- Test error: 0.500\n",
        "# \t\t-- F1 score: 0.500\n",
        "# \t-- Classifying Decision Tree...\n",
        "# \t\t-- Training error: 0.055\n",
        "# \t\t-- Test error: 0.056\n",
        "# \t\t-- F1 score: 0.944\n",
        "# \t-- Classifying K Nearest Neighbors...\n",
        "# \t\t-- Training error: 0.067\n",
        "# \t\t-- Test error: 0.071\n",
        "# \t\t-- F1 score: 0.929\n",
        "\n",
        "### ========== TODO : END ========== ###"
      ],
      "metadata": {
        "id": "LvimpQB2ivzT",
        "colab": {
          "base_uri": "https://localhost:8080/"
        },
        "outputId": "1d9080b8-a689-450a-b183-243f4a3fba21"
      },
      "execution_count": 131,
      "outputs": [
        {
          "output_type": "stream",
          "name": "stdout",
          "text": [
            "Investigating various classifiers...\n",
            "\t-- Classifying Majority Vote...\n",
            "\t\t-- Training error: 0.467\n",
            "\t\t-- Test error: 0.467\n",
            "\t\t-- F1 score: 0.533\n",
            "\t-- Classifying Random Classifier...\n",
            "\t\t-- Training error: 0.499\n",
            "\t\t-- Test error: 0.500\n",
            "\t\t-- F1 score: 0.500\n",
            "\t-- Classifying Decision Tree...\n",
            "\t\t-- Training error: 0.055\n",
            "\t\t-- Test error: 0.056\n",
            "\t\t-- F1 score: 0.944\n",
            "\t-- Classifying K Nearest Neighbors...\n",
            "\t\t-- Training error: 0.067\n",
            "\t\t-- Test error: 0.071\n",
            "\t\t-- F1 score: 0.929\n"
          ]
        }
      ]
    },
    {
      "cell_type": "code",
      "source": [
        "### ========== TODO (e): START ========== ###\n",
        "# use 5-fold cross-validation to find the best value of k for k-Nearest Neighbors classifier\n",
        "print('Finding the best k...')\n",
        "\n",
        "### ========== TODO : END ========== ###"
      ],
      "metadata": {
        "id": "vc0eTyvv7U_Y",
        "colab": {
          "base_uri": "https://localhost:8080/"
        },
        "outputId": "6d2e4c4e-d973-43b1-de60-3a27e4649bec"
      },
      "execution_count": 116,
      "outputs": [
        {
          "output_type": "stream",
          "name": "stdout",
          "text": [
            "Finding the best k...\n"
          ]
        }
      ]
    },
    {
      "cell_type": "code",
      "source": [
        "### ========== TODO (f): START ========== ###\n",
        "# investigate decision tree classifier with various depths\n",
        "print('Investigating depths...')\n",
        "\n",
        "### ========== TODO : END ========== ###"
      ],
      "metadata": {
        "id": "9AzGLcp28IO1",
        "colab": {
          "base_uri": "https://localhost:8080/"
        },
        "outputId": "2cd56ea1-98d3-4c2d-b5b4-fc43144b9218"
      },
      "execution_count": 117,
      "outputs": [
        {
          "output_type": "stream",
          "name": "stdout",
          "text": [
            "Investigating depths...\n"
          ]
        }
      ]
    }
  ]
}